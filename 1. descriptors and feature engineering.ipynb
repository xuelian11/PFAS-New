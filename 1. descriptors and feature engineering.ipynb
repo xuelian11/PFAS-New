{
 "cells": [
  {
   "cell_type": "code",
   "execution_count": 1,
   "metadata": {},
   "outputs": [
    {
     "name": "stderr",
     "output_type": "stream",
     "text": [
      "RDKit WARNING: [09:33:40] Enabling RDKit 2019.09.1 jupyter extensions\n"
     ]
    }
   ],
   "source": [
    "import pandas as pd \n",
    "import os\n",
    "from rdkit import Chem\n",
    "from rdkit.ML.Descriptors import MoleculeDescriptors\n",
    "from rdkit.Chem import Descriptors\n",
    "from rdkit.Chem import AllChem\n"
   ]
  },
  {
   "cell_type": "code",
   "execution_count": 2,
   "metadata": {},
   "outputs": [],
   "source": [
    "folder = r'D:\\Xuelian\\project-PFAS_new'\n",
    "os.chdir(folder)"
   ]
  },
  {
   "cell_type": "markdown",
   "metadata": {},
   "source": [
    "### 1. descriptors"
   ]
  },
  {
   "cell_type": "markdown",
   "metadata": {},
   "source": [
    "#### calculate rdkit descriptors "
   ]
  },
  {
   "cell_type": "code",
   "execution_count": 15,
   "metadata": {},
   "outputs": [],
   "source": [
    "def cal_rdkit(molecules,name_col='PUBCHEM_CID'):\n",
    "    calculator = MoleculeDescriptors.MolecularDescriptorCalculator([desc[0] for desc in Descriptors.descList])\n",
    "    X = pd.DataFrame([list(calculator.CalcDescriptors(mol)) for mol in molecules],\n",
    "                     index=[mol.GetProp(name_col) if mol.HasProp(name_col) else '' for mol in molecules],\n",
    "                     columns=list(calculator.GetDescriptorNames()))\n",
    "    # Imputes the data and replaces NaN values with mean from the column\n",
    "    desc_matrix = X.fillna(X.mean())\n",
    "\n",
    "    # Checks for appropriate output\n",
    "    assert len(desc_matrix.columns) != 0, 'All features contained at least one null value. No descriptor matrix ' \\\n",
    "                                          'could be generated.'\n",
    "\n",
    "    return desc_matrix"
   ]
  },
  {
   "cell_type": "code",
   "execution_count": 16,
   "metadata": {},
   "outputs": [],
   "source": [
    "sdf_file = r'D:\\Xuelian\\project-PFAS_new\\PFAS_16new_smi.sdf'"
   ]
  },
  {
   "cell_type": "code",
   "execution_count": 17,
   "metadata": {},
   "outputs": [],
   "source": [
    "mols = [mol for mol in Chem.SDMolSupplier(sdf_file) if mol is not None]"
   ]
  },
  {
   "cell_type": "code",
   "execution_count": 18,
   "metadata": {},
   "outputs": [],
   "source": [
    "rd = cal_rdkit(mols)"
   ]
  },
  {
   "cell_type": "code",
   "execution_count": 19,
   "metadata": {},
   "outputs": [],
   "source": [
    "rd.to_csv('PFAS_16new_smi_rdkit.csv')"
   ]
  },
  {
   "cell_type": "markdown",
   "metadata": {},
   "source": [
    "#### use the Dragon software to calculate molecular descriptors "
   ]
  },
  {
   "cell_type": "code",
   "execution_count": 28,
   "metadata": {},
   "outputs": [],
   "source": [
    "drag = pd.read_csv('PFAS_16new_Dragon.txt',sep='\\t',index_col=0)"
   ]
  },
  {
   "cell_type": "code",
   "execution_count": 29,
   "metadata": {},
   "outputs": [],
   "source": [
    "drag['PUBCHEM_CID'] = rd.index\n",
    "drag.to_csv('PFAS_16new_Dragon.csv')"
   ]
  },
  {
   "cell_type": "code",
   "execution_count": 5,
   "metadata": {},
   "outputs": [],
   "source": [
    "# the dragon descriptor list\n",
    "descs = pd.read_csv('backup\\dragon_desc_list.txt', sep='\\t',index_col=0)\n",
    "descs.to_csv('backup\\dragon_desc_list.csv')"
   ]
  },
  {
   "cell_type": "code",
   "execution_count": 58,
   "metadata": {},
   "outputs": [],
   "source": [
    "drag_s = pd.read_csv('PFAS_16new_Dragon_small.txt',sep='\\t',index_col=0)"
   ]
  },
  {
   "cell_type": "code",
   "execution_count": 60,
   "metadata": {},
   "outputs": [],
   "source": [
    "drag_s['PUBCHEM_CID'] = dragon.index\n",
    "drag_s.to_csv('PFAS_16new_Dragon_small.csv')"
   ]
  },
  {
   "cell_type": "code",
   "execution_count": 5,
   "metadata": {},
   "outputs": [],
   "source": [
    "drag_xs = pd.read_csv('PFAS_16new_Dragon_xsmall.txt',sep='\\t',index_col=0)"
   ]
  },
  {
   "cell_type": "code",
   "execution_count": 6,
   "metadata": {},
   "outputs": [],
   "source": [
    "drag_xs.to_csv('PFAS_16new_Dragon_xsmall.csv')"
   ]
  },
  {
   "cell_type": "markdown",
   "metadata": {},
   "source": [
    "#### use the MOE software to calculate molecular descriptors"
   ]
  },
  {
   "cell_type": "code",
   "execution_count": 34,
   "metadata": {},
   "outputs": [],
   "source": [
    "moe = pd.read_csv('PFAS_16new_MOE.txt',sep=',')"
   ]
  },
  {
   "cell_type": "code",
   "execution_count": 36,
   "metadata": {},
   "outputs": [],
   "source": [
    "moe.to_csv('PFAS_16new_MOE.csv',index=False)"
   ]
  },
  {
   "cell_type": "code",
   "execution_count": 20,
   "metadata": {},
   "outputs": [],
   "source": [
    "moe_s = pd.read_csv('PFAS_16new_MOE_small_54.txt',sep=',')\n",
    "moe_s.to_csv('PFAS_16new_MOE_s_54.csv',index=False)"
   ]
  },
  {
   "cell_type": "markdown",
   "metadata": {},
   "source": [
    "### 2. Feature engineering  \n",
    "a. remove descriptors that have 0 variance among the 16 compounds  \n",
    "b. Standardization (Z-score normalization), removing the mean and scaling to unit variance."
   ]
  },
  {
   "cell_type": "code",
   "execution_count": 7,
   "metadata": {},
   "outputs": [],
   "source": [
    "from sklearn.preprocessing import StandardScaler\n",
    "from sklearn.feature_selection import VarianceThreshold"
   ]
  },
  {
   "cell_type": "code",
   "execution_count": 8,
   "metadata": {},
   "outputs": [],
   "source": [
    "rdkit = pd.read_csv('PFAS_16new_rdkit.csv',index_col=0)\n",
    "#dragon = pd.read_csv('PFAS_16new_Dragon.csv',index_col=0)\n",
    "dragon_s = pd.read_csv('PFAS_16new_Dragon_small.csv',index_col=0)\n",
    "dragon_xs = pd.read_csv('PFAS_16new_Dragon_xsmall.csv',index_col=0)\n",
    "moe = pd.read_csv('PFAS_16new_MOE.csv',index_col=0)"
   ]
  },
  {
   "cell_type": "markdown",
   "metadata": {},
   "source": [
    "#### 2.1 rdkit descriptors"
   ]
  },
  {
   "cell_type": "code",
   "execution_count": 9,
   "metadata": {},
   "outputs": [
    {
     "data": {
      "text/plain": [
       "VarianceThreshold(threshold=0)"
      ]
     },
     "execution_count": 9,
     "metadata": {},
     "output_type": "execute_result"
    }
   ],
   "source": [
    "selector = VarianceThreshold(threshold=0)\n",
    "selector.fit(rdkit)"
   ]
  },
  {
   "cell_type": "code",
   "execution_count": 6,
   "metadata": {},
   "outputs": [],
   "source": [
    "# get the names of the supported columns (std > threshold, threshold is bedefault=0)\n",
    "indes = selector.get_support()"
   ]
  },
  {
   "cell_type": "code",
   "execution_count": 7,
   "metadata": {},
   "outputs": [],
   "source": [
    "rdkit_vari0 = rdkit.loc[:,indes].copy()"
   ]
  },
  {
   "cell_type": "code",
   "execution_count": 10,
   "metadata": {
    "scrolled": true
   },
   "outputs": [],
   "source": [
    "scaler = StandardScaler()\n",
    "temp = scaler.fit_transform(rdkit_vari0)\n",
    "rdkit_vari0_st = pd.DataFrame(temp,index=rdkit_vari0.index, columns=rdkit_vari0.columns)"
   ]
  },
  {
   "cell_type": "code",
   "execution_count": 11,
   "metadata": {},
   "outputs": [
    {
     "data": {
      "text/plain": [
       "(16, 78)"
      ]
     },
     "execution_count": 11,
     "metadata": {},
     "output_type": "execute_result"
    }
   ],
   "source": [
    "rdkit_vari0_st.shape"
   ]
  },
  {
   "cell_type": "code",
   "execution_count": 12,
   "metadata": {},
   "outputs": [],
   "source": [
    "#rdkit_vari0_st.to_csv('PFAS_16new_rdkit_85_st.csv')\n",
    "rdkit_vari0_st.to_csv('PFAS_16new_rdkit_78_st.csv')"
   ]
  },
  {
   "cell_type": "markdown",
   "metadata": {},
   "source": [
    "#### 2.2 Dragon descriptors"
   ]
  },
  {
   "cell_type": "markdown",
   "metadata": {},
   "source": [
    "the large descriptor set that contain more than 3000 descriptors"
   ]
  },
  {
   "cell_type": "code",
   "execution_count": 39,
   "metadata": {},
   "outputs": [],
   "source": [
    "dragon.dropna(axis=1,inplace=True)"
   ]
  },
  {
   "cell_type": "code",
   "execution_count": 40,
   "metadata": {},
   "outputs": [
    {
     "data": {
      "text/plain": [
       "VarianceThreshold(threshold=0.0)"
      ]
     },
     "execution_count": 40,
     "metadata": {},
     "output_type": "execute_result"
    }
   ],
   "source": [
    "selector = VarianceThreshold()\n",
    "selector.fit(dragon)"
   ]
  },
  {
   "cell_type": "code",
   "execution_count": 41,
   "metadata": {},
   "outputs": [],
   "source": [
    "# get the names of the supported columns (std > threshold, threshold is bedefault=0)\n",
    "indes = selector.get_support()"
   ]
  },
  {
   "cell_type": "code",
   "execution_count": 42,
   "metadata": {},
   "outputs": [],
   "source": [
    "dragon_vari0 = dragon.loc[:,indes].copy()"
   ]
  },
  {
   "cell_type": "code",
   "execution_count": 70,
   "metadata": {},
   "outputs": [
    {
     "data": {
      "text/plain": [
       "(16, 1647)"
      ]
     },
     "execution_count": 70,
     "metadata": {},
     "output_type": "execute_result"
    }
   ],
   "source": [
    "dragon_vari0.shape # the remaining descriptors were still too many"
   ]
  },
  {
   "cell_type": "markdown",
   "metadata": {},
   "source": [
    "the small descriptor set that contain 570 descriptors"
   ]
  },
  {
   "cell_type": "code",
   "execution_count": 62,
   "metadata": {},
   "outputs": [
    {
     "data": {
      "text/plain": [
       "0"
      ]
     },
     "execution_count": 62,
     "metadata": {},
     "output_type": "execute_result"
    }
   ],
   "source": [
    "dragon_s.isna().sum().sum()"
   ]
  },
  {
   "cell_type": "code",
   "execution_count": 10,
   "metadata": {},
   "outputs": [],
   "source": [
    "selector = VarianceThreshold(threshold=0)\n",
    "selector.fit(dragon_xs)\n",
    "# get the names of the supported columns (std > threshold, threshold is bedefault=0)\n",
    "indes = selector.get_support()"
   ]
  },
  {
   "cell_type": "code",
   "execution_count": 11,
   "metadata": {},
   "outputs": [],
   "source": [
    "dragon_xs_vari0 = dragon_xs.loc[:,indes].copy()"
   ]
  },
  {
   "cell_type": "code",
   "execution_count": 12,
   "metadata": {},
   "outputs": [
    {
     "data": {
      "text/plain": [
       "(16, 50)"
      ]
     },
     "execution_count": 12,
     "metadata": {},
     "output_type": "execute_result"
    }
   ],
   "source": [
    "dragon_xs_vari0.shape"
   ]
  },
  {
   "cell_type": "code",
   "execution_count": 13,
   "metadata": {},
   "outputs": [],
   "source": [
    "scaler = StandardScaler()\n",
    "temp = scaler.fit_transform(dragon_xs_vari0)\n",
    "dragon_xs_vari0_st = pd.DataFrame(temp,index=dragon_xs_vari0.index, columns=dragon_xs_vari0.columns)"
   ]
  },
  {
   "cell_type": "code",
   "execution_count": 14,
   "metadata": {},
   "outputs": [],
   "source": [
    "#dragon_s_vari0_st.to_csv('PFAS_16new_Dragon_small_103_st.csv')\n",
    "#dragon_s_vari0_st.to_csv('PFAS_16new_Dragon_small_88_st.csv')\n",
    "dragon_xs_vari0_st.to_csv('PFAS_16new_Dragon_xsmall_50_st.csv')"
   ]
  },
  {
   "cell_type": "markdown",
   "metadata": {},
   "source": [
    "#### 2.3 MOE descriptors"
   ]
  },
  {
   "cell_type": "code",
   "execution_count": 50,
   "metadata": {},
   "outputs": [
    {
     "data": {
      "text/plain": [
       "0"
      ]
     },
     "execution_count": 50,
     "metadata": {},
     "output_type": "execute_result"
    }
   ],
   "source": [
    "moe.isna().sum().sum()"
   ]
  },
  {
   "cell_type": "code",
   "execution_count": 18,
   "metadata": {},
   "outputs": [
    {
     "data": {
      "text/plain": [
       "VarianceThreshold(threshold=0.05)"
      ]
     },
     "execution_count": 18,
     "metadata": {},
     "output_type": "execute_result"
    }
   ],
   "source": [
    "selector = VarianceThreshold(threshold=0)\n",
    "selector.fit(moe)"
   ]
  },
  {
   "cell_type": "code",
   "execution_count": 19,
   "metadata": {},
   "outputs": [],
   "source": [
    "# get the names of the supported columns (std > threshold, threshold is bedefault=0)\n",
    "indes = selector.get_support()"
   ]
  },
  {
   "cell_type": "code",
   "execution_count": 20,
   "metadata": {},
   "outputs": [],
   "source": [
    "moe_vari0 = moe.loc[:,indes].copy()"
   ]
  },
  {
   "cell_type": "code",
   "execution_count": 21,
   "metadata": {},
   "outputs": [],
   "source": [
    "scaler = StandardScaler()\n",
    "temp = scaler.fit_transform(moe_vari0)\n",
    "moe_vari0_st = pd.DataFrame(temp,index=moe_vari0.index, columns=moe_vari0.columns)"
   ]
  },
  {
   "cell_type": "code",
   "execution_count": 23,
   "metadata": {},
   "outputs": [],
   "source": [
    "moe_s = pd.read_csv('PFAS_16new_MOE_s_54.csv',index_col=0)"
   ]
  },
  {
   "cell_type": "code",
   "execution_count": 24,
   "metadata": {},
   "outputs": [
    {
     "data": {
      "text/plain": [
       "VarianceThreshold(threshold=0)"
      ]
     },
     "execution_count": 24,
     "metadata": {},
     "output_type": "execute_result"
    }
   ],
   "source": [
    "selector = VarianceThreshold(threshold=0)\n",
    "selector.fit(moe_s)"
   ]
  },
  {
   "cell_type": "code",
   "execution_count": 25,
   "metadata": {},
   "outputs": [],
   "source": [
    "indes = selector.get_support()\n",
    "moe_s_vari0 = moe_s.loc[:,indes].copy()\n",
    "scaler = StandardScaler()\n",
    "temp = scaler.fit_transform(moe_s_vari0)\n",
    "moe_s_vari0_st = pd.DataFrame(temp,index=moe_s_vari0.index, columns=moe_s_vari0.columns)\n",
    "moe_s_vari0_st.to_csv('PFAS_16new_moe_s_54_st+ptarget-.csv')"
   ]
  },
  {
   "cell_type": "code",
   "execution_count": 24,
   "metadata": {},
   "outputs": [],
   "source": [
    "#moe_vari0_st.to_csv('PFAS_16new_moe_155_st.csv')\n",
    "moe_vari0_st.to_csv('PFAS_16new_moe_115_st.csv')"
   ]
  },
  {
   "cell_type": "markdown",
   "metadata": {},
   "source": [
    "#### endpoints transformation"
   ]
  },
  {
   "cell_type": "code",
   "execution_count": 29,
   "metadata": {},
   "outputs": [],
   "source": [
    "import math"
   ]
  },
  {
   "cell_type": "code",
   "execution_count": 30,
   "metadata": {},
   "outputs": [],
   "source": [
    "endpoints = pd.read_excel(r'D:\\Xuelian\\project-PFAS_new\\original data\\Targets_t.xlsx',index_col=0)"
   ]
  },
  {
   "cell_type": "code",
   "execution_count": 32,
   "metadata": {},
   "outputs": [],
   "source": [
    "endpoints_t = -endpoints.applymap(math.log10)\n",
    "endpoints_t.to_csv('Targets_log.csv')"
   ]
  },
  {
   "cell_type": "code",
   "execution_count": 12,
   "metadata": {},
   "outputs": [],
   "source": [
    "scaler = StandardScaler()\n",
    "temp = scaler.fit_transform(endpoints_t)\n",
    "ep_tr_st = pd.DataFrame(temp, index=endpoints_t.index, columns=endpoints_t.columns)"
   ]
  },
  {
   "cell_type": "code",
   "execution_count": 13,
   "metadata": {},
   "outputs": [],
   "source": [
    "ep_tr_st.to_csv('Targets_log_st.csv')"
   ]
  },
  {
   "cell_type": "code",
   "execution_count": null,
   "metadata": {},
   "outputs": [],
   "source": []
  }
 ],
 "metadata": {
  "kernelspec": {
   "display_name": "Python 3",
   "language": "python",
   "name": "python3"
  },
  "language_info": {
   "codemirror_mode": {
    "name": "ipython",
    "version": 3
   },
   "file_extension": ".py",
   "mimetype": "text/x-python",
   "name": "python",
   "nbconvert_exporter": "python",
   "pygments_lexer": "ipython3",
   "version": "3.7.5"
  }
 },
 "nbformat": 4,
 "nbformat_minor": 2
}
