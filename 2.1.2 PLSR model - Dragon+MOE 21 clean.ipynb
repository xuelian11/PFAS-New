{
 "cells": [
  {
   "cell_type": "code",
   "execution_count": 1,
   "metadata": {},
   "outputs": [],
   "source": [
    "import os\n",
    "import pandas as pd \n",
    "import numpy as np\n",
    "import matplotlib.pyplot as plt\n",
    "import math"
   ]
  },
  {
   "cell_type": "code",
   "execution_count": 2,
   "metadata": {},
   "outputs": [],
   "source": [
    "from sklearn.model_selection import GridSearchCV, cross_val_score, train_test_split, KFold, LeaveOneOut, cross_val_predict\n",
    "from sklearn.cross_decomposition import PLSRegression\n",
    "from sklearn.metrics import r2_score, mean_squared_error, make_scorer"
   ]
  },
  {
   "cell_type": "code",
   "execution_count": 3,
   "metadata": {},
   "outputs": [],
   "source": [
    "folder = r'D:\\Xuelian\\project-PFAS_new'\n",
    "os.chdir(folder)"
   ]
  },
  {
   "cell_type": "code",
   "execution_count": 4,
   "metadata": {},
   "outputs": [],
   "source": [
    "drag = pd.read_csv('PFAS_16new_Dragon+MOE_20_ptarget.csv',index_col=0)"
   ]
  },
  {
   "cell_type": "code",
   "execution_count": 5,
   "metadata": {},
   "outputs": [],
   "source": [
    "# difine the RMSE metric \n",
    "def rmse(y_t, y_p):\n",
    "    mse = mean_squared_error(y_t,y_p)\n",
    "    return math.sqrt(mse)"
   ]
  },
  {
   "cell_type": "markdown",
   "metadata": {},
   "source": [
    "#### split training and external validation set"
   ]
  },
  {
   "cell_type": "code",
   "execution_count": 6,
   "metadata": {},
   "outputs": [],
   "source": [
    "vali = drag.sample(n=4, axis=0, random_state=42)\n",
    "train = drag.drop(index=vali.index)"
   ]
  },
  {
   "cell_type": "code",
   "execution_count": 7,
   "metadata": {},
   "outputs": [],
   "source": [
    "def define(to_do):\n",
    "    \"\"\"this function take the organism ID number and return the columns corresponding\n",
    "    to train_X, train_y, vali_X, vali_y\"\"\"\n",
    "    \n",
    "    start = str(to_do)+'_pLiver'\n",
    "    end = str(to_do)+'_pLung'\n",
    "    X = train.loc[:,:'h_pKa'].copy()\n",
    "    y = train.loc[:,start:end].copy()\n",
    "    vali_X = vali.loc[:,:'h_pKa'].copy()\n",
    "    vali_y = vali.loc[:,start:end].copy()\n",
    "    \n",
    "    return X,y, vali_X, vali_y"
   ]
  },
  {
   "cell_type": "code",
   "execution_count": 8,
   "metadata": {},
   "outputs": [],
   "source": [
    "def calculate_sep(y_true, y_pred):\n",
    "    \"\"\"this function take the y_true and y_pred dataframe and calculate R2 and RMSE for each tissue/column, \n",
    "    return the list of these parameters\"\"\"\n",
    "    \n",
    "    r2_list = [0]*5\n",
    "    rmse_list = [0]*5\n",
    "    for i in range(5):\n",
    "        a = r2_score(y_true.iloc[:,i],y_pred[:,i])\n",
    "        b = rmse(y_true.iloc[:,i],y_pred[:,i])\n",
    "        r2_list[i] = a\n",
    "        rmse_list[i] = b\n",
    "        \n",
    "    return r2_list, rmse_list"
   ]
  },
  {
   "cell_type": "code",
   "execution_count": 9,
   "metadata": {},
   "outputs": [],
   "source": [
    "df = pd.DataFrame(index=['liver','brain','heart','kidney','lung','Total']) \n",
    "coef_list = []"
   ]
  },
  {
   "cell_type": "code",
   "execution_count": 16,
   "metadata": {},
   "outputs": [],
   "source": [
    "for i in range(1,5):\n",
    "    to_do = i\n",
    "    X, y, vali_X, vali_y = define(to_do)\n",
    "    my_plsr = PLSRegression()\n",
    "    param = {'n_components':range(1,10)}\n",
    "    grids = GridSearchCV(my_plsr, param_grid=param, cv=LeaveOneOut(),scoring=make_scorer(rmse, greater_is_better=False))\n",
    "    grids.fit(X,y)\n",
    "    best_estimator = grids.best_estimator_\n",
    "    \n",
    "    # save the coefficients to a dataframe\n",
    "    names = ['liver','brain','heart','kidney','lung']\n",
    "    a = [str(to_do)+'_'+ i for i in names]\n",
    "    coef = pd.DataFrame(best_estimator.coef_, columns=a)\n",
    "    coef_list.append(coef)\n",
    "    \n",
    "    # calculate total and separate r2, RMSE for training set predictions\n",
    "    pred = best_estimator.predict(X)\n",
    "    total_r2 = r2_score(y, pred)\n",
    "    total_rmse = rmse(y, pred)\n",
    "    r2_list, rmse_list = calculate_sep(y, pred)\n",
    "    r2_list.append(total_r2)\n",
    "    rmse_list.append(total_rmse)\n",
    "    \n",
    "    # calculate total and separate r2, RMSE for validation set predictions\n",
    "    pred_v = best_estimator.predict(vali_X)\n",
    "    total_r2_v = r2_score(vali_y, pred_v)\n",
    "    total_rmse_v = rmse(vali_y, pred_v)\n",
    "    r2_list_v, rmse_list_v = calculate_sep(vali_y, pred_v)\n",
    "    r2_list_v.append(total_r2_v)\n",
    "    rmse_list_v.append(total_rmse_v)\n",
    "    \n",
    "    df[str(to_do)+'_train_r2'] = r2_list\n",
    "    df[str(to_do)+'_train_RMSE'] = rmse_list\n",
    "    df[str(to_do)+'_vali_r2'] = r2_list_v\n",
    "    df[str(to_do)+'_vali_RMSE'] = rmse_list_v\n",
    "    \n",
    "df.to_csv('results\\performance_dragon+MOE_20.csv')\n",
    "coefs = pd.concat(coef_list,axis=1)\n",
    "coefs.index = X.columns\n",
    "coefs['std'] = coefs.std(axis=1)\n",
    "coefs.to_csv('results\\coefficients_dragon+MOE_20.csv')"
   ]
  },
  {
   
